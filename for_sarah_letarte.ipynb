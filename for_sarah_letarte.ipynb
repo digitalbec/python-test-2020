{
 "cells": [
  {
   "cell_type": "code",
   "execution_count": 12,
   "metadata": {},
   "outputs": [
    {
     "name": "stdin",
     "output_type": "stream",
     "text": [
      "please enter your name  sarah\n",
      "please enter your best friends name rebecca\n"
     ]
    },
    {
     "name": "stdout",
     "output_type": "stream",
     "text": [
      "Hello sarah your best friend is rebecca!\n"
     ]
    },
    {
     "name": "stdin",
     "output_type": "stream",
     "text": [
      "do you remember the first time we met? yes/no yes\n"
     ]
    },
    {
     "name": "stdout",
     "output_type": "stream",
     "text": [
      "OMG I DONT\n",
      "Now lets use that masters degree\n"
     ]
    },
    {
     "name": "stdin",
     "output_type": "stream",
     "text": [
      "please input your first number 2\n",
      "please input your second number 3\n"
     ]
    },
    {
     "name": "stdout",
     "output_type": "stream",
     "text": [
      "6\n"
     ]
    }
   ],
   "source": [
    "# for sarah letarte\n",
    "name = input(\"please enter your name \")\n",
    "name2 = input(\"please enter your best friends name \")\n",
    "\n",
    "print(\"Hello \"+ name +\" your best friend is \" + name2 + \"!\")\n",
    "\n",
    "# do you remember the first time we met\n",
    "meet = input(\"do you remember the first time we met? yes/no \")\n",
    "\n",
    "if meet == \"yes\":\n",
    "    print(\"OMG I DONT...now lets use that masters degree \")\n",
    "else:\n",
    "    print(\"U BITCH...now lets use that masters degree \")\n",
    "    \n",
    "\n",
    "number1 = int(input(\"please input your first number \"))\n",
    "\n",
    "number2= int(input(\"please input your second number \"))\n",
    "\n",
    "print(number1*number2)\n",
    "    "
   ]
  },
  {
   "cell_type": "code",
   "execution_count": null,
   "metadata": {},
   "outputs": [],
   "source": []
  },
  {
   "cell_type": "code",
   "execution_count": null,
   "metadata": {},
   "outputs": [],
   "source": []
  }
 ],
 "metadata": {
  "kernelspec": {
   "display_name": "Python 3",
   "language": "python",
   "name": "python3"
  },
  "language_info": {
   "codemirror_mode": {
    "name": "ipython",
    "version": 3
   },
   "file_extension": ".py",
   "mimetype": "text/x-python",
   "name": "python",
   "nbconvert_exporter": "python",
   "pygments_lexer": "ipython3",
   "version": "3.8.3"
  }
 },
 "nbformat": 4,
 "nbformat_minor": 4
}
